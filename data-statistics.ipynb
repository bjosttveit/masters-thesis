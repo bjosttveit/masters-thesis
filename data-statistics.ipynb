{
 "cells": [
  {
   "cell_type": "code",
   "execution_count": 2,
   "metadata": {},
   "outputs": [],
   "source": [
    "import os\n",
    "\n",
    "labelPath = \"dataset/labels\"\n",
    "\n",
    "files = list(filter(lambda x: x.endswith(\"txt\"),os.listdir(labelPath)))\n",
    "\n",
    "classes = ['black sheep', 'brown sheep', 'grey sheep', 'white sheep','black occluded sheep', 'brown occluded sheep', 'grey occluded sheep', 'white occluded sheep']"
   ]
  },
  {
   "cell_type": "code",
   "execution_count": 3,
   "metadata": {},
   "outputs": [],
   "source": [
    "\n",
    "\n",
    "class_img = {}\n",
    "class_count = {}\n",
    "img_class = {}\n",
    "img_class_count = {}\n",
    "total_sheep = 0\n",
    "total_imgs = 0\n",
    "\n",
    "for file in files:\n",
    "    total_imgs += 1\n",
    "    with open(f\"{labelPath}/{file}\") as f:\n",
    "        while (line := f.readline()) != \"\":\n",
    "\n",
    "            total_sheep += 1\n",
    "\n",
    "            c = classes[int(line[0])]\n",
    "            i = file[:-4]\n",
    "\n",
    "            class_img.setdefault(c, set()).add(i)\n",
    "\n",
    "            class_count[c] = class_count.get(c, 0) + 1\n",
    "\n",
    "            img_class.setdefault(i, set()).add(c)\n",
    "\n",
    "            img_class_count.setdefault(i, {}).setdefault(c, 0)\n",
    "            img_class_count[i][c] += 1"
   ]
  },
  {
   "cell_type": "code",
   "execution_count": 3,
   "metadata": {},
   "outputs": [
    {
     "name": "stdout",
     "output_type": "stream",
     "text": [
      "Instances of each class:\n"
     ]
    },
    {
     "data": {
      "text/plain": [
       "{'black sheep': 2362,\n",
       " 'grey sheep': 3515,\n",
       " 'brown sheep': 1071,\n",
       " 'white sheep': 12380,\n",
       " 'white occluded sheep': 904,\n",
       " 'grey occluded sheep': 149,\n",
       " 'black occluded sheep': 40,\n",
       " 'brown occluded sheep': 10}"
      ]
     },
     "execution_count": 3,
     "metadata": {},
     "output_type": "execute_result"
    }
   ],
   "source": [
    "print(\"Instances of each class:\")\n",
    "class_count"
   ]
  },
  {
   "cell_type": "code",
   "execution_count": 4,
   "metadata": {},
   "outputs": [
    {
     "name": "stdout",
     "output_type": "stream",
     "text": [
      "Images containing class:\n",
      "black sheep 1017\n",
      "grey sheep 1150\n",
      "brown sheep 445\n",
      "white sheep 1739\n",
      "white occluded sheep 516\n",
      "grey occluded sheep 75\n",
      "black occluded sheep 37\n",
      "brown occluded sheep 7\n"
     ]
    }
   ],
   "source": [
    "print(\"Images containing class:\")\n",
    "for (c, imgs) in class_img.items():\n",
    "    print(c, len(imgs))"
   ]
  },
  {
   "cell_type": "code",
   "execution_count": 5,
   "metadata": {},
   "outputs": [
    {
     "name": "stdout",
     "output_type": "stream",
     "text": [
      "Non-occluded sheep count: 19328\n",
      "Occluded sheep count: 1103\n"
     ]
    }
   ],
   "source": [
    "print(\"Non-occluded sheep count:\", class_count['black sheep'] + class_count['brown sheep'] + class_count['grey sheep'] + class_count['white sheep'])\n",
    "print(\"Occluded sheep count:\", class_count['black occluded sheep'] + class_count['brown occluded sheep'] + class_count['grey occluded sheep'] + class_count['white occluded sheep'])"
   ]
  },
  {
   "cell_type": "code",
   "execution_count": 5,
   "metadata": {},
   "outputs": [
    {
     "data": {
      "text/plain": [
       "20431"
      ]
     },
     "execution_count": 5,
     "metadata": {},
     "output_type": "execute_result"
    }
   ],
   "source": [
    "total_sheep"
   ]
  },
  {
   "cell_type": "code",
   "execution_count": 6,
   "metadata": {},
   "outputs": [
    {
     "data": {
      "text/plain": [
       "2125"
      ]
     },
     "execution_count": 6,
     "metadata": {},
     "output_type": "execute_result"
    }
   ],
   "source": [
    "total_imgs"
   ]
  },
  {
   "cell_type": "code",
   "execution_count": 7,
   "metadata": {},
   "outputs": [
    {
     "data": {
      "text/plain": [
       "'Occulded sheep percentage: 5.40%'"
      ]
     },
     "execution_count": 7,
     "metadata": {},
     "output_type": "execute_result"
    }
   ],
   "source": [
    "f\"Occulded sheep percentage: {100 * (class_count['black occluded sheep'] + class_count['brown occluded sheep'] + class_count['grey occluded sheep'] + class_count['white occluded sheep']) / total_sheep:.2f}%\""
   ]
  },
  {
   "cell_type": "code",
   "execution_count": 8,
   "metadata": {},
   "outputs": [
    {
     "data": {
      "text/plain": [
       "'Images containing occluded sheep percentage: 29.88%'"
      ]
     },
     "execution_count": 8,
     "metadata": {},
     "output_type": "execute_result"
    }
   ],
   "source": [
    "f\"Images containing occluded sheep percentage: {100 * (len(class_img['black occluded sheep']) + len(class_img['brown occluded sheep']) + len(class_img['grey occluded sheep']) + len(class_img['white occluded sheep'])) / total_imgs:.2f}%\""
   ]
  },
  {
   "cell_type": "code",
   "execution_count": 13,
   "metadata": {},
   "outputs": [],
   "source": [
    "split = {\"train\": 0.7, \"val\": 0.15, \"test\": 0.15}\n",
    "\n",
    "target = {}\n",
    "for (set, proportion) in split.items():\n",
    "    target[set] = {}\n",
    "    for (clas, count) in class_count.items():\n",
    "        target[set][clas] = count*proportion"
   ]
  },
  {
   "cell_type": "code",
   "execution_count": 37,
   "metadata": {},
   "outputs": [],
   "source": [
    "import random\n",
    "random.seed(69)\n",
    "\n",
    "labels = files.copy()\n",
    "random.shuffle(labels)\n",
    "\n",
    "sets = {\"train\": [], \"val\": [], \"test\": []}\n",
    "\n",
    "def calc_diff(assigned, target):\n",
    "    diff = 0\n",
    "    for clas in target.keys():\n",
    "        if assigned[clas] >= target[clas]: continue\n",
    "        diff += (target[clas] / max(assigned[clas], 0.1)) / class_count[clas]\n",
    "    return diff\n",
    "\n",
    "def calc_modified(assigned, clas_count):\n",
    "    modified = assigned.copy()\n",
    "    for clas, count in clas_count.items():\n",
    "        modified[clas] = modified.get(clas, 0) + count\n",
    "    return modified\n",
    "\n",
    "assigned = {}\n",
    "for (set, proportion) in split.items():\n",
    "    assigned[set] = {}\n",
    "    for (clas, count) in class_count.items():\n",
    "        assigned[set][clas] = 0\n",
    "\n",
    "for file in labels:\n",
    "    clas_count = img_class_count.get(file[:-4])\n",
    "    if clas_count is None: continue\n",
    "    \n",
    "    weights = {\"train\": 0, \"val\": 0, \"test\": 0}\n",
    "    for set in weights.keys():\n",
    "        start = calc_diff(assigned[set], target[set])\n",
    "        modified = calc_modified(assigned[set], clas_count)\n",
    "        end = calc_diff(modified, target[set])\n",
    "        weights[set] = (start - end)\n",
    "    \n",
    "    winner = max(weights, key=weights.get)\n",
    "    assigned[winner] = calc_modified(assigned[winner], clas_count)\n",
    "    sets[winner].append(file)"
   ]
  },
  {
   "cell_type": "code",
   "execution_count": null,
   "metadata": {},
   "outputs": [],
   "source": [
    "path = \"dataset\"\n",
    "\n",
    "for s, filelist in sets.items():\n",
    "    with open(f\"{path}/customsplit_{s}.txt\", \"w+\") as output:\n",
    "        for filename in filelist:\n",
    "            output.write(f\"./images/{filename[:-4]}.jpg\\n\")"
   ]
  },
  {
   "cell_type": "code",
   "execution_count": 38,
   "metadata": {},
   "outputs": [
    {
     "data": {
      "text/plain": [
       "{'train': {'black sheep': 1653.3999999999999,\n",
       "  'grey sheep': 2460.5,\n",
       "  'brown sheep': 749.6999999999999,\n",
       "  'white sheep': 8666.0,\n",
       "  'white occluded sheep': 632.8,\n",
       "  'grey occluded sheep': 104.3,\n",
       "  'black occluded sheep': 28.0,\n",
       "  'brown occluded sheep': 7.0},\n",
       " 'val': {'black sheep': 354.3,\n",
       "  'grey sheep': 527.25,\n",
       "  'brown sheep': 160.65,\n",
       "  'white sheep': 1857.0,\n",
       "  'white occluded sheep': 135.6,\n",
       "  'grey occluded sheep': 22.349999999999998,\n",
       "  'black occluded sheep': 6.0,\n",
       "  'brown occluded sheep': 1.5},\n",
       " 'test': {'black sheep': 354.3,\n",
       "  'grey sheep': 527.25,\n",
       "  'brown sheep': 160.65,\n",
       "  'white sheep': 1857.0,\n",
       "  'white occluded sheep': 135.6,\n",
       "  'grey occluded sheep': 22.349999999999998,\n",
       "  'black occluded sheep': 6.0,\n",
       "  'brown occluded sheep': 1.5}}"
      ]
     },
     "execution_count": 38,
     "metadata": {},
     "output_type": "execute_result"
    }
   ],
   "source": [
    "target"
   ]
  },
  {
   "cell_type": "code",
   "execution_count": 39,
   "metadata": {},
   "outputs": [
    {
     "data": {
      "text/plain": [
       "{'train': {'black sheep': 1638,\n",
       "  'grey sheep': 2427,\n",
       "  'brown sheep': 744,\n",
       "  'white sheep': 8585,\n",
       "  'white occluded sheep': 627,\n",
       "  'grey occluded sheep': 87,\n",
       "  'black occluded sheep': 26,\n",
       "  'brown occluded sheep': 6},\n",
       " 'val': {'black sheep': 360,\n",
       "  'grey sheep': 546,\n",
       "  'brown sheep': 165,\n",
       "  'white sheep': 1910,\n",
       "  'white occluded sheep': 139,\n",
       "  'grey occluded sheep': 31,\n",
       "  'black occluded sheep': 6,\n",
       "  'brown occluded sheep': 2},\n",
       " 'test': {'black sheep': 364,\n",
       "  'grey sheep': 542,\n",
       "  'brown sheep': 162,\n",
       "  'white sheep': 1885,\n",
       "  'white occluded sheep': 138,\n",
       "  'grey occluded sheep': 31,\n",
       "  'black occluded sheep': 8,\n",
       "  'brown occluded sheep': 2}}"
      ]
     },
     "execution_count": 39,
     "metadata": {},
     "output_type": "execute_result"
    }
   ],
   "source": [
    "assigned"
   ]
  },
  {
   "cell_type": "code",
   "execution_count": 120,
   "metadata": {},
   "outputs": [],
   "source": [
    "sets = [\"train\", \"val\", \"test\"]\n",
    "setPath = \"dataset\"\n",
    "\n",
    "split_class_count = {}\n",
    "\n",
    "for s in sets:\n",
    "    split_class_count[s] = {}\n",
    "    with open(f\"{setPath}/autosplit_{s}.txt\") as f:\n",
    "        while (line := f.readline()) != \"\":\n",
    "            i = line[9:-5]\n",
    "            for (c, count) in img_class_count.get(i, {}).items():\n",
    "                split_class_count[s][c] = split_class_count[s].get(c, 0) + count\n"
   ]
  },
  {
   "cell_type": "code",
   "execution_count": 121,
   "metadata": {},
   "outputs": [
    {
     "data": {
      "text/plain": [
       "[('train',\n",
       "  {'white sheep': 8886,\n",
       "   'white occluded sheep': 627,\n",
       "   'grey sheep': 2450,\n",
       "   'black sheep': 1712,\n",
       "   'black occluded sheep': 31,\n",
       "   'grey occluded sheep': 81,\n",
       "   'brown sheep': 758,\n",
       "   'brown occluded sheep': 5}),\n",
       " ('val',\n",
       "  {'white sheep': 1835,\n",
       "   'white occluded sheep': 149,\n",
       "   'grey sheep': 522,\n",
       "   'black sheep': 330,\n",
       "   'grey occluded sheep': 38,\n",
       "   'brown sheep': 175,\n",
       "   'black occluded sheep': 3,\n",
       "   'brown occluded sheep': 1}),\n",
       " ('test',\n",
       "  {'white sheep': 1659,\n",
       "   'white occluded sheep': 128,\n",
       "   'grey sheep': 543,\n",
       "   'black sheep': 320,\n",
       "   'black occluded sheep': 6,\n",
       "   'grey occluded sheep': 30,\n",
       "   'brown sheep': 138,\n",
       "   'brown occluded sheep': 4})]"
      ]
     },
     "execution_count": 121,
     "metadata": {},
     "output_type": "execute_result"
    }
   ],
   "source": [
    "list(split_class_count.items())"
   ]
  },
  {
   "cell_type": "code",
   "execution_count": 25,
   "metadata": {},
   "outputs": [],
   "source": [
    "def class_proportion(c_count):\n",
    "    tot = 0\n",
    "    for (c, count) in c_count.items():\n",
    "        tot += count\n",
    "    class_proportions = {}\n",
    "    for (c, count) in c_count.items():\n",
    "        class_proportions[c] = count / tot\n",
    "    return class_proportions\n",
    "\n",
    "def print_cp(cp):\n",
    "    for (c, prop) in cp.items():\n",
    "        print(c, f\"{100 * prop:.2f}%\")"
   ]
  },
  {
   "cell_type": "code",
   "execution_count": 26,
   "metadata": {},
   "outputs": [
    {
     "name": "stdout",
     "output_type": "stream",
     "text": [
      "total\n",
      "black sheep 11.56%\n",
      "grey sheep 17.20%\n",
      "brown sheep 5.24%\n",
      "white sheep 60.59%\n",
      "white occluded sheep 4.42%\n",
      "grey occluded sheep 0.73%\n",
      "black occluded sheep 0.20%\n",
      "brown occluded sheep 0.05%\n",
      "\n",
      "train\n",
      "white sheep 60.41%\n",
      "white occluded sheep 4.36%\n",
      "grey sheep 17.32%\n",
      "black sheep 12.00%\n",
      "black occluded sheep 0.22%\n",
      "grey occluded sheep 0.52%\n",
      "brown sheep 5.11%\n",
      "brown occluded sheep 0.06%\n",
      "\n",
      "val\n",
      "white sheep 61.64%\n",
      "white occluded sheep 4.36%\n",
      "grey sheep 16.36%\n",
      "black sheep 9.83%\n",
      "black occluded sheep 0.20%\n",
      "grey occluded sheep 0.97%\n",
      "brown sheep 6.61%\n",
      "brown occluded sheep 0.03%\n",
      "\n",
      "test\n",
      "white sheep 60.46%\n",
      "white occluded sheep 4.76%\n",
      "black sheep 11.20%\n",
      "grey sheep 17.45%\n",
      "grey occluded sheep 1.45%\n",
      "brown sheep 4.54%\n",
      "black occluded sheep 0.09%\n",
      "brown occluded sheep 0.03%\n",
      "\n"
     ]
    }
   ],
   "source": [
    "print(\"total\")\n",
    "print_cp(class_proportion(class_count))\n",
    "print()\n",
    "\n",
    "for (s, c_count) in split_class_count.items():\n",
    "    print(s)\n",
    "    print_cp(class_proportion(c_count))\n",
    "    print()"
   ]
  },
  {
   "cell_type": "code",
   "execution_count": null,
   "metadata": {},
   "outputs": [],
   "source": []
  }
 ],
 "metadata": {
  "interpreter": {
   "hash": "b0fa6594d8f4cbf19f97940f81e996739fb7646882a419484c72d19e05852a7e"
  },
  "kernelspec": {
   "display_name": "Python 3.9.7 64-bit",
   "language": "python",
   "name": "python3"
  },
  "language_info": {
   "codemirror_mode": {
    "name": "ipython",
    "version": 3
   },
   "file_extension": ".py",
   "mimetype": "text/x-python",
   "name": "python",
   "nbconvert_exporter": "python",
   "pygments_lexer": "ipython3",
   "version": "3.9.10"
  },
  "orig_nbformat": 4
 },
 "nbformat": 4,
 "nbformat_minor": 2
}
