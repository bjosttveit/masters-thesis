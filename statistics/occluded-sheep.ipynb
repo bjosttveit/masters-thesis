{
 "cells": [
  {
   "cell_type": "code",
   "execution_count": 10,
   "metadata": {},
   "outputs": [],
   "source": [
    "import os\n",
    "\n",
    "labelPath = \"../2021_dataset/train/labels/\"\n",
    "#labelPath = \"../19_20_dataset/train/labels/\"\n",
    "\n",
    "files = os.listdir(labelPath)\n",
    "\n",
    "classes = ['black sheep', 'brown sheep', 'grey sheep', 'occluded sheep', 'white sheep']\n",
    "#classes = ['black sheep', 'brown sheep', 'grey sheep', 'white sheep']"
   ]
  },
  {
   "cell_type": "code",
   "execution_count": 11,
   "metadata": {},
   "outputs": [],
   "source": [
    "\n",
    "\n",
    "class_img = {}\n",
    "class_count = {}\n",
    "img_class = {}\n",
    "\n",
    "for file in files:\n",
    "    with open(f\"{labelPath}/{file}\") as f:\n",
    "        while (line := f.readline()) != \"\":\n",
    "\n",
    "            c = line[0]\n",
    "\n",
    "            if class_img.get(c) == None: class_img[c] = set()\n",
    "            class_img[c].add(file)\n",
    "\n",
    "            if class_count.get(c) == None: class_count[c] = 0\n",
    "            class_count[c] += 1\n",
    "\n",
    "            if img_class.get(file) == None: class_img[file] = set()\n",
    "            class_img[file].add(c)"
   ]
  },
  {
   "cell_type": "code",
   "execution_count": null,
   "metadata": {},
   "outputs": [],
   "source": []
  },
  {
   "cell_type": "code",
   "execution_count": 12,
   "metadata": {},
   "outputs": [
    {
     "data": {
      "text/plain": [
       "{'0': 1193, '2': 1983, '1': 389, '3': 4810}"
      ]
     },
     "execution_count": 12,
     "metadata": {},
     "output_type": "execute_result"
    }
   ],
   "source": [
    "class_count"
   ]
  }
 ],
 "metadata": {
  "interpreter": {
   "hash": "b0fa6594d8f4cbf19f97940f81e996739fb7646882a419484c72d19e05852a7e"
  },
  "kernelspec": {
   "display_name": "Python 3.9.7 64-bit",
   "language": "python",
   "name": "python3"
  },
  "language_info": {
   "codemirror_mode": {
    "name": "ipython",
    "version": 3
   },
   "file_extension": ".py",
   "mimetype": "text/x-python",
   "name": "python",
   "nbconvert_exporter": "python",
   "pygments_lexer": "ipython3",
   "version": "3.9.7"
  },
  "orig_nbformat": 4
 },
 "nbformat": 4,
 "nbformat_minor": 2
}
