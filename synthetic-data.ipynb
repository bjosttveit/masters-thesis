{
 "cells": [
  {
   "cell_type": "code",
   "execution_count": 21,
   "metadata": {},
   "outputs": [],
   "source": [
    "datasetName = \"be560875-c319-4c7e-a40c-87557783a96c\"\n",
    "\n",
    "syntheticDataPath = \"synthetic_dataset/temp\"\n",
    "\n",
    "imageWidth = 640\n",
    "imageHeight = 640"
   ]
  },
  {
   "cell_type": "code",
   "execution_count": 22,
   "metadata": {},
   "outputs": [],
   "source": [
    "import os\n",
    "\n",
    "datasetPath = f\"synthetic_dataset/{datasetName}\"\n",
    "\n",
    "metadataName = next(filter(lambda x: x.startswith(\"Dataset\"), os.listdir(datasetPath)))\n",
    "metadataPath = f\"{datasetPath}/{metadataName}\"\n",
    "\n",
    "captureFiles = list(filter(lambda x: x.startswith(\"captures_\"), os.listdir(metadataPath)))"
   ]
  },
  {
   "cell_type": "code",
   "execution_count": 23,
   "metadata": {},
   "outputs": [],
   "source": [
    "import json\n",
    "import shutil\n",
    "from uuid import uuid4\n",
    "\n",
    "class_count = {\n",
    "    \"Black\": 0,\n",
    "    \"Brown\": 0,\n",
    "    \"Gray\": 0,\n",
    "    \"White\": 0,\n",
    "}\n",
    "\n",
    "shutil.rmtree(syntheticDataPath, ignore_errors=True, onerror=None)\n",
    "os.makedirs(syntheticDataPath)\n",
    "\n",
    "for captureFile in captureFiles:\n",
    "    with open(f\"{metadataPath}/{captureFile}\") as f:\n",
    "        data = json.load(f)\n",
    "    \n",
    "    for capture in data[\"captures\"]:\n",
    "        fileName = f\"{datasetPath}/{capture['filename']}\"\n",
    "        annotations = capture[\"annotations\"][0][\"values\"]\n",
    "        if len(annotations) < 1:\n",
    "            continue\n",
    "        \n",
    "        image_name = uuid4().hex\n",
    "        \n",
    "        shutil.copyfile(fileName, f\"{syntheticDataPath}/{image_name}.png\")\n",
    "\n",
    "        with open(f\"{syntheticDataPath}/{image_name}.txt\", \"w+\") as f:\n",
    "            for label in annotations:\n",
    "                class_name = label[\"label_name\"]\n",
    "                class_id = label[\"label_id\"]\n",
    "                class_count[class_name] += 1\n",
    "\n",
    "                x = label[\"x\"] / imageWidth\n",
    "                y = label[\"y\"] / imageHeight\n",
    "                w = label[\"width\"] / imageWidth\n",
    "                h = label[\"height\"] / imageHeight\n",
    "\n",
    "                xc = x + w / 2\n",
    "                yc = y + h / 2\n",
    "\n",
    "                if w > 2e-2 and h > 2e-2:\n",
    "                    f.write(f\"{class_id} {xc:.6f} {yc:.6f} {w:.6f} {h:.6f}\\n\")\n"
   ]
  },
  {
   "cell_type": "code",
   "execution_count": 24,
   "metadata": {},
   "outputs": [
    {
     "data": {
      "text/plain": [
       "{'Black': 1557, 'Brown': 2081, 'Gray': 1043, 'White': 503}"
      ]
     },
     "execution_count": 24,
     "metadata": {},
     "output_type": "execute_result"
    }
   ],
   "source": [
    "class_count"
   ]
  },
  {
   "cell_type": "markdown",
   "metadata": {},
   "source": [
    "# Remove empty images"
   ]
  },
  {
   "cell_type": "code",
   "execution_count": 26,
   "metadata": {},
   "outputs": [],
   "source": [
    "import os\n",
    "\n",
    "syntheticDataPath = \"synthetic_dataset/temp\"\n",
    "\n",
    "images = list(filter(lambda x: x.endswith(\".png\"), os.listdir(syntheticDataPath)))\n",
    "labels = list(filter(lambda x: x.endswith(\".txt\"), os.listdir(syntheticDataPath)))\n",
    "\n",
    "for image in images:\n",
    "    name = image[:-4]\n",
    "    if f\"{name}.txt\" not in labels:\n",
    "        os.remove(f\"{syntheticDataPath}/{image}\")\n",
    "\n",
    "for label in labels:\n",
    "    with open(f\"{syntheticDataPath}/{label}\", \"r\") as f:\n",
    "        if f.readline() == \"\":\n",
    "            name = label[:-4]\n",
    "            os.remove(f\"{syntheticDataPath}/{label}\")\n",
    "            os.remove(f\"{syntheticDataPath}/{name}.png\")"
   ]
  },
  {
   "cell_type": "markdown",
   "metadata": {},
   "source": [
    "# Move labels"
   ]
  },
  {
   "cell_type": "code",
   "execution_count": 31,
   "metadata": {},
   "outputs": [],
   "source": [
    "import os\n",
    "import shutil\n",
    "\n",
    "syntheticDataPath = \"synthetic_dataset/temp\"\n",
    "syntheticImagePath = \"grid_dataset/synthetic/images\"\n",
    "syntheticLabelPath = \"grid_dataset/synthetic/labels\"\n",
    "\n",
    "images = list(filter(lambda x: x.endswith(\".png\"), os.listdir(syntheticDataPath)))\n",
    "labels = list(filter(lambda x: x.endswith(\".txt\"), os.listdir(syntheticDataPath)))\n",
    "\n",
    "for label in labels:\n",
    "    shutil.move(f\"{syntheticDataPath}/{label}\", f\"{syntheticLabelPath}/{label}\")\n",
    "\n",
    "for image in images:\n",
    "    shutil.move(f\"{syntheticDataPath}/{image}\", f\"{syntheticImagePath}/{image}\")"
   ]
  },
  {
   "cell_type": "markdown",
   "metadata": {},
   "source": [
    "# Stats"
   ]
  },
  {
   "cell_type": "code",
   "execution_count": 32,
   "metadata": {},
   "outputs": [],
   "source": [
    "import os\n",
    "\n",
    "syntheticLabelPath = \"grid_dataset/synthetic/labels\"\n",
    "\n",
    "classes = [\"Black\", \"Brown\", \"Gray\", \"White\"]\n",
    "\n",
    "class_count = {\n",
    "    \"Black\": 0,\n",
    "    \"Brown\": 0,\n",
    "    \"Gray\": 0,\n",
    "    \"White\": 0,\n",
    "}\n",
    "\n",
    "labels = list(filter(lambda x: x.endswith(\".txt\"), os.listdir(syntheticLabelPath)))\n",
    "\n",
    "for label in labels:\n",
    "    with open(f\"{syntheticLabelPath}/{label}\", \"r\") as f:\n",
    "        while (line := f.readline()) != \"\":\n",
    "            clas = int(line[0])\n",
    "            class_count[classes[clas]] += 1"
   ]
  },
  {
   "cell_type": "code",
   "execution_count": 33,
   "metadata": {},
   "outputs": [
    {
     "data": {
      "text/plain": [
       "{'Black': 2401, 'Brown': 3183, 'Gray': 1644, 'White': 851}"
      ]
     },
     "execution_count": 33,
     "metadata": {},
     "output_type": "execute_result"
    }
   ],
   "source": [
    "class_count"
   ]
  },
  {
   "cell_type": "code",
   "execution_count": 34,
   "metadata": {},
   "outputs": [
    {
     "data": {
      "text/plain": [
       "8079"
      ]
     },
     "execution_count": 34,
     "metadata": {},
     "output_type": "execute_result"
    }
   ],
   "source": [
    "class_count[\"Brown\"] + class_count[\"Black\"] + class_count[\"Gray\"] + class_count[\"White\"]"
   ]
  },
  {
   "cell_type": "code",
   "execution_count": 35,
   "metadata": {},
   "outputs": [
    {
     "data": {
      "text/plain": [
       "3867"
      ]
     },
     "execution_count": 35,
     "metadata": {},
     "output_type": "execute_result"
    }
   ],
   "source": [
    "len(labels)"
   ]
  },
  {
   "cell_type": "code",
   "execution_count": null,
   "metadata": {},
   "outputs": [],
   "source": []
  }
 ],
 "metadata": {
  "interpreter": {
   "hash": "b0fa6594d8f4cbf19f97940f81e996739fb7646882a419484c72d19e05852a7e"
  },
  "kernelspec": {
   "display_name": "Python 3.9.10 64-bit",
   "language": "python",
   "name": "python3"
  },
  "language_info": {
   "codemirror_mode": {
    "name": "ipython",
    "version": 3
   },
   "file_extension": ".py",
   "mimetype": "text/x-python",
   "name": "python",
   "nbconvert_exporter": "python",
   "pygments_lexer": "ipython3",
   "version": "3.9.10"
  },
  "orig_nbformat": 4
 },
 "nbformat": 4,
 "nbformat_minor": 2
}
