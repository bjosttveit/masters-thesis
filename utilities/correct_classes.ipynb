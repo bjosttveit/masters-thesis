{
 "cells": [
  {
   "cell_type": "code",
   "execution_count": 1,
   "metadata": {},
   "outputs": [],
   "source": [
    "import os\n",
    "\n",
    "label_path = \"../relabel/images\"\n",
    "output_path = \"../full_dataset/labels\"\n",
    "\n",
    "files = list(filter(lambda x: x.endswith(\"txt\"),os.listdir(label_path)))\n",
    "\n",
    "for file in files:\n",
    "    with open(f\"{label_path}/{file}\") as input:\n",
    "        with open(f\"{output_path}/{file}\", \"w+\") as output:\n",
    "            while (line := input.readline()) != \"\":\n",
    "\n",
    "                c = int(line[0])\n",
    "                if c > 4: c -= 1\n",
    "                \n",
    "                line = f\"{c}{line[1:]}\"\n",
    "                output.write(line)\n",
    "\n",
    "            \n"
   ]
  }
 ],
 "metadata": {
  "interpreter": {
   "hash": "b0fa6594d8f4cbf19f97940f81e996739fb7646882a419484c72d19e05852a7e"
  },
  "kernelspec": {
   "display_name": "Python 3.9.7 64-bit",
   "language": "python",
   "name": "python3"
  },
  "language_info": {
   "codemirror_mode": {
    "name": "ipython",
    "version": 3
   },
   "file_extension": ".py",
   "mimetype": "text/x-python",
   "name": "python",
   "nbconvert_exporter": "python",
   "pygments_lexer": "ipython3",
   "version": "3.9.10"
  },
  "orig_nbformat": 4
 },
 "nbformat": 4,
 "nbformat_minor": 2
}
